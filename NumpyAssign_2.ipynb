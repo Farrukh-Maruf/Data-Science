{
  "nbformat": 4,
  "nbformat_minor": 0,
  "metadata": {
    "colab": {
      "provenance": [],
      "include_colab_link": true
    },
    "kernelspec": {
      "name": "python3",
      "display_name": "Python 3"
    },
    "language_info": {
      "name": "python"
    }
  },
  "cells": [
    {
      "cell_type": "markdown",
      "metadata": {
        "id": "view-in-github",
        "colab_type": "text"
      },
      "source": [
        "<a href=\"https://colab.research.google.com/github/Farrukh-Maruf/Data-Science/blob/main/NumpyAssign_2.ipynb\" target=\"_parent\"><img src=\"https://colab.research.google.com/assets/colab-badge.svg\" alt=\"Open In Colab\"/></a>"
      ]
    },
    {
      "cell_type": "markdown",
      "source": [
        "# ![Imgur](https://i.imgur.com/5pXzCIu.png)\n",
        "\n",
        "# **DATA SCIENCE VA SUN'IY INTELLEKT PRAKTIKUM**\n",
        "\n",
        "## Ma'lumotlar tahlili. Numpy kutubxonasi. \n",
        "\n",
        "# **2-AMALIY VAZIFA**\n",
        "\n",
        "## N-o'lchamli massivlarga ishov berish"
      ],
      "metadata": {
        "id": "hM7RtlAGm4aO"
      }
    },
    {
      "cell_type": "code",
      "execution_count": 1,
      "metadata": {
        "id": "-7ik1fFSmsZc"
      },
      "outputs": [],
      "source": [
        "# Numpy kutubxonasini chaqirib olish\n",
        "import numpy as np"
      ]
    },
    {
      "cell_type": "markdown",
      "source": [
        "### Masala(1): 2-o'lchamli massiv yaratish \n",
        "\n",
        "**Masala sharti :** Elementlari 0 dan 9 gacha (9 ning o'zi massiv elementiga kirmaydi), qadami esa 1 ga teng bo'lgan (3, 3) o'lchamli massiv yaratuvchi funksiyani davom ettiring.  \n",
        "\n",
        "**Yordam :**  `arange`dan foydalanish ishni osonlashtiradi \n"
      ],
      "metadata": {
        "id": "hQT_temqnMSX"
      }
    },
    {
      "cell_type": "code",
      "source": [
        "# JAVOBNI SHU YERGA YOZING\n",
        "def nd_array():\n",
        "  \"\"\"Elementlari 0 dan 9 gacha (9 ning o'zi massiv elementiga kirmaydi), \n",
        "  qadami esa 1 ga teng bo'lgan (3, 3) o'lchamli massiv \"\"\"\n",
        "  array=np.arange(0, 9, 1).reshape(3, 3)\n",
        "  return array \n",
        "nd_array() \n",
        "\n"
      ],
      "metadata": {
        "id": "DN8F8hFSnLpj",
        "outputId": "1202e670-19d5-45e7-cbd2-a45304857443",
        "colab": {
          "base_uri": "https://localhost:8080/"
        }
      },
      "execution_count": 14,
      "outputs": [
        {
          "output_type": "execute_result",
          "data": {
            "text/plain": [
              "array([[0, 1, 2],\n",
              "       [3, 4, 5],\n",
              "       [6, 7, 8]])"
            ]
          },
          "metadata": {},
          "execution_count": 14
        }
      ]
    },
    {
      "cell_type": "markdown",
      "source": [
        "### Yuqoridagi yozgan funksiyangizni tekshirish uchun, quyidagi cellni yuriting. "
      ],
      "metadata": {
        "id": "uD-JFFzZq-ph"
      }
    },
    {
      "cell_type": "markdown",
      "source": [
        "___"
      ],
      "metadata": {
        "id": "r3P1nO9GrxVb"
      }
    },
    {
      "cell_type": "code",
      "source": [
        "#@title Tekshirish (natijada hech qanday xatolik yuz bermasligi kerak)\n",
        "\"\"\"Funksiyani tekshirish\"\"\"\n",
        "arr = nd_array() # massiv\n",
        "assert arr.size == 9, f\"elementlar sonida xatolik mavjud\"  # elementlar soni\n",
        "assert type(arr) == np.ndarray, f\"massiv aniqlanmadi\" #numpy array \n",
        "# elementwise test\n",
        "test_arr = np.arange(9).reshape(3, 3)\n",
        "assert arr.shape == (3, 3), f\"noto'g'ri qator va ustunlardan foydalanilgan\"\n",
        "assert True in np.in1d(arr, test_arr), f\"elementlararo xatolik mavjud\"\n"
      ],
      "metadata": {
        "cellView": "form",
        "id": "gBXUGXYspqq2"
      },
      "execution_count": 8,
      "outputs": []
    },
    {
      "cell_type": "markdown",
      "source": [
        "###  Masala(2): Indeks yordamida 2-o'lchamli massivlardan elementlarni  kesib olish \n",
        "**Masala :** Yuqorida yaratilgan massivning elementlari 6 va 7 ga teng bo'lgan qismini kesib olish funksiyasini davom ettiring.\n",
        "\n",
        "**Yordam :** 6 va 7 turgan indekslarni aniqlab olib, shu indekslar yordamida kesib oling. **Natija:** array([6, 7]) ko'rinishida bo'lishi kerak. "
      ],
      "metadata": {
        "id": "M2NZoO65rwji"
      }
    },
    {
      "cell_type": "code",
      "source": [
        "nd_array()"
      ],
      "metadata": {
        "id": "Ujrlc2QAmAqQ",
        "outputId": "79285cde-6ca7-4513-fb23-63dd47ae2039",
        "colab": {
          "base_uri": "https://localhost:8080/"
        }
      },
      "execution_count": 15,
      "outputs": [
        {
          "output_type": "execute_result",
          "data": {
            "text/plain": [
              "array([[0, 1, 2],\n",
              "       [3, 4, 5],\n",
              "       [6, 7, 8]])"
            ]
          },
          "metadata": {},
          "execution_count": 15
        }
      ]
    },
    {
      "cell_type": "code",
      "source": [
        "# JAVOBNI SHU YERGA YOZING\n",
        "def sliced_array_2d():\n",
        "    \"\"\"Yuqorida yaratilgan massivning elementlari 6 va 7 ga teng bo'lgan\n",
        "     qismini kesib olish funksiyasi \"\"\"\n",
        "    array = nd_array() # yuqoridagi funksiya yordamida array yaratib olish\n",
        "    print(array[2,0:2])\n",
        "sliced_array_2d()\n"
      ],
      "metadata": {
        "id": "45Tw2aNeqxRM",
        "outputId": "df968e90-4cca-4dea-bc30-57558612fc78",
        "colab": {
          "base_uri": "https://localhost:8080/"
        }
      },
      "execution_count": 40,
      "outputs": [
        {
          "output_type": "stream",
          "name": "stdout",
          "text": [
            "[6 7]\n"
          ]
        }
      ]
    },
    {
      "cell_type": "markdown",
      "source": [
        "### Yuqoridagi yozgan funksiyangizni tekshirish uchun, quyidagi cellni yuriting. "
      ],
      "metadata": {
        "id": "87LBvb1fr9kT"
      }
    },
    {
      "cell_type": "code",
      "source": [
        "#@title Tekshirish (natijada hech qanday xatolik yuz bermasligi kerak)\n",
        "\"\"\"Funksiyani tekshirish\"\"\"\n",
        "sl_arr_2d = sliced_array_2d() # kesib olingan massiv\n",
        "assert sl_arr_2d.size == 2, f\"elementlar sonida xatolik mavjud\"  # elementlar soni\n",
        "assert type(sl_arr_2d) == np.ndarray, f\"massiv aniqlanmadi\" #numpy array \n",
        "# elementwise test\n",
        "test_arr = np.array([6, 7])\n",
        "assert sl_arr_2d.shape == (2,), f\"kesib olingan massiv shaklida xatolik mavjud\"\n",
        "assert True in np.in1d(sl_arr_2d, test_arr), f\"elementlararo xatolik mavjud\""
      ],
      "metadata": {
        "cellView": "form",
        "id": "nUNM0mYGsA18",
        "outputId": "1d383c78-c514-4216-9554-c04e8c591b8c",
        "colab": {
          "base_uri": "https://localhost:8080/",
          "height": 253
        }
      },
      "execution_count": 67,
      "outputs": [
        {
          "output_type": "stream",
          "name": "stdout",
          "text": [
            "[6 7]\n"
          ]
        },
        {
          "output_type": "error",
          "ename": "AttributeError",
          "evalue": "ignored",
          "traceback": [
            "\u001b[0;31m---------------------------------------------------------------------------\u001b[0m",
            "\u001b[0;31mAttributeError\u001b[0m                            Traceback (most recent call last)",
            "\u001b[0;32m<ipython-input-67-7042abc3e8e7>\u001b[0m in \u001b[0;36m<module>\u001b[0;34m\u001b[0m\n\u001b[1;32m      2\u001b[0m \u001b[0;34m\"\"\"Funksiyani tekshirish\"\"\"\u001b[0m\u001b[0;34m\u001b[0m\u001b[0;34m\u001b[0m\u001b[0m\n\u001b[1;32m      3\u001b[0m \u001b[0msl_arr_2d\u001b[0m \u001b[0;34m=\u001b[0m \u001b[0msliced_array_2d\u001b[0m\u001b[0;34m(\u001b[0m\u001b[0;34m)\u001b[0m \u001b[0;31m# kesib olingan massiv\u001b[0m\u001b[0;34m\u001b[0m\u001b[0;34m\u001b[0m\u001b[0m\n\u001b[0;32m----> 4\u001b[0;31m \u001b[0;32massert\u001b[0m \u001b[0msl_arr_2d\u001b[0m\u001b[0;34m.\u001b[0m\u001b[0msize\u001b[0m \u001b[0;34m==\u001b[0m \u001b[0;36m2\u001b[0m\u001b[0;34m,\u001b[0m \u001b[0;34mf\"elementlar sonida xatolik mavjud\"\u001b[0m  \u001b[0;31m# elementlar soni\u001b[0m\u001b[0;34m\u001b[0m\u001b[0;34m\u001b[0m\u001b[0m\n\u001b[0m\u001b[1;32m      5\u001b[0m \u001b[0;32massert\u001b[0m \u001b[0mtype\u001b[0m\u001b[0;34m(\u001b[0m\u001b[0msl_arr_2d\u001b[0m\u001b[0;34m)\u001b[0m \u001b[0;34m==\u001b[0m \u001b[0mnp\u001b[0m\u001b[0;34m.\u001b[0m\u001b[0mndarray\u001b[0m\u001b[0;34m,\u001b[0m \u001b[0;34mf\"massiv aniqlanmadi\"\u001b[0m \u001b[0;31m#numpy array\u001b[0m\u001b[0;34m\u001b[0m\u001b[0;34m\u001b[0m\u001b[0m\n\u001b[1;32m      6\u001b[0m \u001b[0;31m# elementwise test\u001b[0m\u001b[0;34m\u001b[0m\u001b[0;34m\u001b[0m\u001b[0;34m\u001b[0m\u001b[0m\n",
            "\u001b[0;31mAttributeError\u001b[0m: 'NoneType' object has no attribute 'size'"
          ]
        }
      ]
    },
    {
      "cell_type": "markdown",
      "source": [
        "___"
      ],
      "metadata": {
        "id": "Msz8_E_gtEef"
      }
    },
    {
      "cell_type": "markdown",
      "source": [
        "###  Masala(3): Indeks yordamida 3-o'lchamli massivdan elementlarni kesib olish \n",
        "\n",
        "**Masala :**  3-o'lchamli massivni quyidagi listdan yarating, hamda 12, 13, 15, va 16  elementlarini kesib oluvchi funksiyani davom ettiring.  \n",
        "\n",
        "                  [[[ 0,  1,  2],\n",
        "                    [ 3,  4,  5],\n",
        "                    [ 6,  7,  8]],\n",
        "\n",
        "                   [[ 9, 10, 11],\n",
        "                    [12, 13, 14],\n",
        "                    [15, 16, 17]],\n",
        "\n",
        "                   [[18, 19, 20],\n",
        "                    [21, 22, 23],\n",
        "                    [24, 25, 26]]]\n",
        "\n",
        "**Yordam :** Avval massivni ikki o'lchamli massivga keltirib, keyin kesib olishni amalga oshiring. \n",
        "\n",
        "\n",
        "**Natija:**  \n",
        "\n",
        "             array([[12, 13],\n",
        "                    [15, 16]])\n",
        "ko'rinishida bo'lishi kerak. "
      ],
      "metadata": {
        "id": "lX5Y2HQ1taOa"
      }
    },
    {
      "cell_type": "code",
      "source": [
        "arr3d = np.array([[[ 0,  1,  2],\n",
        "                   [ 3,  4,  5],\n",
        "                   [ 6,  7,  8]],\n",
        "\n",
        "                  [[ 9, 10, 11],\n",
        "                   [12, 13, 14],\n",
        "                   [15, 16, 17]],\n",
        "\n",
        "                  [[18, 19, 20],\n",
        "                   [21, 22, 23],\n",
        "                   [24, 25, 26]]])\n",
        "arr3d"
      ],
      "metadata": {
        "id": "nHD6zQWww7kG",
        "outputId": "71463a58-986e-4e95-ae16-bca3dd108722",
        "colab": {
          "base_uri": "https://localhost:8080/"
        }
      },
      "execution_count": 93,
      "outputs": [
        {
          "output_type": "execute_result",
          "data": {
            "text/plain": [
              "array([[[ 0,  1,  2],\n",
              "        [ 3,  4,  5],\n",
              "        [ 6,  7,  8]],\n",
              "\n",
              "       [[ 9, 10, 11],\n",
              "        [12, 13, 14],\n",
              "        [15, 16, 17]],\n",
              "\n",
              "       [[18, 19, 20],\n",
              "        [21, 22, 23],\n",
              "        [24, 25, 26]]])"
            ]
          },
          "metadata": {},
          "execution_count": 93
        }
      ]
    },
    {
      "cell_type": "code",
      "source": [
        "# JAVOBNI SHU YERGA YOZING\n",
        "def sliced_array_3d():\n",
        "    \"\"\"3-o'lchamli massivni yuqoridagi listdan yaratish, \n",
        "    hamda 12, 13, 15, va 16 elementlarini kesib olish funksiyasi\"\"\"\n",
        "    sliced_arr= arr3d[1][1:3,0:2]\n",
        "    return sliced_arr\n",
        "    print(sliced_arr)\n",
        "sliced_array_3d()"
      ],
      "metadata": {
        "id": "Ogntt8ivs7rY",
        "outputId": "abd19d59-5de7-4138-dcc0-b5661ae5d07d",
        "colab": {
          "base_uri": "https://localhost:8080/"
        }
      },
      "execution_count": 99,
      "outputs": [
        {
          "output_type": "execute_result",
          "data": {
            "text/plain": [
              "array([[12, 13],\n",
              "       [15, 16]])"
            ]
          },
          "metadata": {},
          "execution_count": 99
        }
      ]
    },
    {
      "cell_type": "code",
      "source": [
        "#@title Tekshirish (natijada hech qanday xatolik yuz bermasligi kerak)\n",
        "\"\"\"Funksiyani tekshirish\"\"\"\n",
        "sl_arr_3d = sliced_array_3d() # kesib olingan massiv\n",
        "assert sl_arr_3d.size == 4, f\"kesib olingan elementlar sonida xatolik\" # elementlar soni\n",
        "assert type(sl_arr_3d) == np.ndarray, f\"massiv aniqlanmadi\" #numpy array \n",
        "# elementwise test\n",
        "test_arr = np.array([[12, 13],\n",
        "                     [15, 16]])\n",
        "assert sl_arr_3d.shape == (2,2), f\"kesib olingan massiv shaklida xatolik mavjud\"\n",
        "assert True in np.in1d(sl_arr_3d, test_arr), f\"elemtlararo xatolik mavjud\""
      ],
      "metadata": {
        "id": "3oGeE5yLt6Lg"
      },
      "execution_count": 100,
      "outputs": []
    },
    {
      "cell_type": "markdown",
      "source": [
        "___"
      ],
      "metadata": {
        "id": "LFSATVx6voGP"
      }
    },
    {
      "cell_type": "markdown",
      "source": [
        "###  Masala(4): Boolean indeks yordamida 2-o'lchamli massivlardan elementlarni  kesib olish \n",
        "\n",
        "**Masala :** Bizlarda,  \n",
        "        \n",
        "        ['Hasan', 'Husan', 'Javohir', 'Elyor', 'Hasan', 'Javohir', 'Elyor']\n",
        "\n",
        "**list**dagi kishilar va ularning **ma'lumot**lari \n",
        "       \n",
        "      [[5, 6, 1, 1],\n",
        "       [9, 1, 1, 1],\n",
        "       [7, 7, 4, 2],\n",
        "       [1, 5, 1, 9],\n",
        "       [9, 9, 4, 5],\n",
        "       [7, 5, 9, 6],\n",
        "       [5, 3, 7, 4]]\n",
        "ko'rinishda keltirilgan. \n",
        "\n",
        "\n",
        "Mana shu ma'lumotlardan **Javohir** va **Elyor** ismlariga tegishli ma'lumotlarni Boolean indekslash yordamida kesib olish funksiyasini davom ettiring. \n",
        "**Yordam :** Boolean indekslash video darsligiga murojat qiling. \n",
        "**Natija:** Natija (4, 4) o'lchamli massiv ko'rinishida, hamda dastlabki ikkita qattori quyidagicha\n",
        "\n",
        "    array([[7, 7, 4, 2],\n",
        "           [1, 5, 1, 9],\n",
        "           ...\n",
        "           ...        ]])"
      ],
      "metadata": {
        "id": "FVkfhm-Tvqxx"
      }
    },
    {
      "cell_type": "code",
      "source": [
        "names=np.array(['Hasan', 'Husan', 'Javohir', 'Elyor', 'Hasan', 'Javohir', 'Elyor'])\n",
        "data= np.array([[5, 6, 1, 1],\n",
        "   [9, 1, 1, 1],\n",
        "   [7, 7, 4, 2],\n",
        "   [1, 5, 1, 9],\n",
        "   [9, 9, 4, 5],\n",
        "   [7, 5, 9, 6],\n",
        "   [5, 3, 7, 4]])"
      ],
      "metadata": {
        "id": "UhI0EGhYCa3R"
      },
      "execution_count": 113,
      "outputs": []
    },
    {
      "cell_type": "code",
      "source": [
        "# JAVOBNI SHU YERGA YOZING\n",
        "def boolean_slicing():\n",
        "    \"\"\"Boolean indekslash yordamida ma'lumotlarni kesib olish \"\"\"\n",
        "    mask= (names== 'Javohir')|(names=='Elyor')\n",
        "    data[mask]\n",
        "    return data[mask]\n",
        "    print(data[mask])\n",
        "boolean_slicing()\n"
      ],
      "metadata": {
        "id": "VDCIeFdtuamf",
        "outputId": "5f26f576-5b21-4ffc-f9b7-6d72c01fb7dd",
        "colab": {
          "base_uri": "https://localhost:8080/"
        }
      },
      "execution_count": 115,
      "outputs": [
        {
          "output_type": "execute_result",
          "data": {
            "text/plain": [
              "array([[7, 7, 4, 2],\n",
              "       [1, 5, 1, 9],\n",
              "       [7, 5, 9, 6],\n",
              "       [5, 3, 7, 4]])"
            ]
          },
          "metadata": {},
          "execution_count": 115
        }
      ]
    },
    {
      "cell_type": "markdown",
      "source": [
        "### Yuqoridagi yozgan funksiyangizni tekshirish uchun, quyidagi cellni yuriting. "
      ],
      "metadata": {
        "id": "OkUGtgD7wD6J"
      }
    },
    {
      "cell_type": "code",
      "source": [
        "#@title Tekshirish (natijada hech qanday xatolik yuz bermasligi kerak)\n",
        "\"\"\"Funksiyani tekshirish\"\"\"\n",
        "bool_idx = boolean_slicing() # kesib olingan massiv\n",
        "assert bool_idx.size == 16, f\"kesib olingan elementlar sonida xatolik mavjud\"  # elementlar soni\n",
        "assert type(bool_idx) == np.ndarray, f\"massiv aniqlanmadi\" #numpy array \n",
        "# elementwise test\n",
        "test_arr = np.array([[7, 7, 4, 2],\n",
        "                     [1, 5, 1, 9],\n",
        "                     [7, 5, 9, 6],\n",
        "                     [5, 3, 7, 4]])\n",
        "assert bool_idx.shape == (4,4), f\"kesib olingan massiv shaklida xatolik mavjud\"\n",
        "assert True in np.in1d(bool_idx, test_arr), f\"elemetlararo xatolik mavjud\""
      ],
      "metadata": {
        "id": "sxOxSISOwEsX"
      },
      "execution_count": 116,
      "outputs": []
    }
  ]
}